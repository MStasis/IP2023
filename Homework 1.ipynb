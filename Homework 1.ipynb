import cv2
import numpy as np

def nothing(x):
    pass

drawing = False 
ix,iy = -1,-1

def draw(event,x,y,flags,param):
    global ix,iy,drawing
    font = cv2.FONT_HERSHEY_SIMPLEX
    if event == cv2.EVENT_LBUTTONDOWN:
        drawing = True
        ix,iy = x,y
    elif event == cv2.EVENT_MOUSEMOVE:
        if drawing == True:
            img[:50,:350,:]=img_temp[:50,:350,:]
            cv2.putText(img,'Mouse position : '+str(x)+','+str(y),(10,30), font, 0.8,(255,255,255),2,cv2.LINE_AA)
    elif event == cv2.EVENT_LBUTTONUP:
        drawing = False
        img[min(iy,y):max(iy,y),min(ix,x):max(ix,x),0:-1]=value


img = cv2.imread('cat.jpg')

img_temp = cv2.imread('cat.jpg')

cv2.namedWindow('image')

cv2.setMouseCallback('image',draw)

cv2.createTrackbar('value','image',0,255,nothing)

while(1):
    cv2.imshow('image',img)
    if cv2.waitKey(20) & 0xFF == 27:
        break

    value = cv2.getTrackbarPos('value','image')

cv2.destroyAllWindows()
