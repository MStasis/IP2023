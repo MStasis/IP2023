import numpy as np
import cv2
img = cv2.imread('sIMG_8253.jpg')
img2 = img.copy()
h, w = img.shape[:2]
img = cv2.imread('sIMG_8253.jpg')
gray = cv2.cvtColor(img, cv2.COLOR_BGR2GRAY)
blur = cv2.GaussianBlur(gray, (3,3), 0)
circles = cv2.HoughCircles(blur, cv2.HOUGH_GRADIENT, 1.2, 30, None, 200)
if circles is not None:
    circles = np.uint16(np.around(circles))
    for i in circles[0,:]:
        cv2.circle(img,(i[0], i[1]), i[2], (0, 255, 0), 2)
        cv2.circle(img,(i[0], i[1]), i[2], (0, 255, 0), 2)
      
cv2.imshow('hough circle', img)
cv2.waitKey(0)
cv2.destroyAllWindows()